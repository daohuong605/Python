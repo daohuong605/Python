{
 "cells": [
  {
   "cell_type": "code",
   "execution_count": 1,
   "metadata": {},
   "outputs": [
    {
     "name": "stdout",
     "output_type": "stream",
     "text": [
      "Name: Hamster\n",
      "Age: 2\n",
      "Moi truong song: house\n",
      "Tieng keu: chit chit\n"
     ]
    },
    {
     "data": {
      "text/plain": [
       "'chit chit'"
      ]
     },
     "execution_count": 1,
     "metadata": {},
     "output_type": "execute_result"
    }
   ],
   "source": [
    "class Animal:\n",
    "    def __init__(self, name, age, moi_truong_song, tieng_Keu):\n",
    "        self.name = name\n",
    "        self.age = age\n",
    "        self.moi_truong_song = moi_truong_song\n",
    "        self.tieng_Keu = tieng_Keu\n",
    "    def Show_Infor(self):\n",
    "        print(f'Name: {self.name}')  \n",
    "        print(f'Age: {self.age}')\n",
    "        print(f'Moi truong song: {self.moi_truong_song}')  \n",
    "        print(f'Tieng keu: {self.tieng_Keu}')    \n",
    "\n",
    "    def Tieng_Keu (self):\n",
    "        return self.tieng_Keu\n",
    "    \n",
    "Mouse = Animal('Hamster', 2, 'house', 'chit chit')\n",
    "\n",
    "Mouse.Show_Infor()\n",
    "Mouse.Tieng_Keu()"
   ]
  },
  {
   "cell_type": "code",
   "execution_count": 11,
   "metadata": {},
   "outputs": [
    {
     "name": "stdout",
     "output_type": "stream",
     "text": [
      "Name: Bangal\n",
      "Age: 4\n",
      "Moi truong song: Rừng\n",
      "Tieng keu: grrr\n",
      "Thuc an: thịt\n",
      "Mau long: cam đen\n"
     ]
    },
    {
     "data": {
      "text/plain": [
       "'grrr'"
      ]
     },
     "execution_count": 11,
     "metadata": {},
     "output_type": "execute_result"
    }
   ],
   "source": [
    "class Tiger(Animal):\n",
    "    def __init__(self, name, age, moi_truong_song, tieng_Keu, thuc_an, color):\n",
    "        super().__init__(name, age, moi_truong_song, tieng_Keu)\n",
    "        self.thuc_an = thuc_an\n",
    "        self.color = color\n",
    "    \n",
    "    def Tieng_Keu(self):\n",
    "        return super().Tieng_Keu()\n",
    "    def xemThongTinTiger(self):\n",
    "        print (f'Thuc an: {self.thuc_an}')\n",
    "        print (f'Mau long: {self.color}')\n",
    "\n",
    "tiger = Tiger('Bangal', 4, 'Rừng', 'grrr', 'thịt', 'cam đen')\n",
    "tiger.Show_Infor()\n",
    "tiger.xemThongTinTiger()\n",
    "tiger.Tieng_Keu()"
   ]
  },
  {
   "cell_type": "code",
   "execution_count": 6,
   "metadata": {},
   "outputs": [
    {
     "name": "stdout",
     "output_type": "stream",
     "text": [
      "Name: Husky\n",
      "Age: 2\n",
      "Moi truong song: Nhà\n",
      "Tieng keu: go go\n",
      "Nhiem vu: trông nhà\n"
     ]
    },
    {
     "data": {
      "text/plain": [
       "'go go'"
      ]
     },
     "execution_count": 6,
     "metadata": {},
     "output_type": "execute_result"
    }
   ],
   "source": [
    "class Dog(Animal):\n",
    "    def __init__(self, name, age, moi_truong_song, tieng_Keu, nhiem_vu):\n",
    "        super().__init__(name, age, moi_truong_song, tieng_Keu)\n",
    "        self.nhiem_vu = nhiem_vu\n",
    "\n",
    "    def Tieng_Keu(self):\n",
    "        return super().Tieng_Keu()\n",
    "    \n",
    "    def xemThongTinDog(self):\n",
    "        print(f'Nhiem vu: {self.nhiem_vu}')\n",
    "\n",
    "dog = Dog('Husky', 2, 'Nhà', 'go go', 'trông nhà')\n",
    "dog.Show_Infor()\n",
    "dog.xemThongTinDog()\n",
    "dog.Tieng_Keu()"
   ]
  },
  {
   "cell_type": "code",
   "execution_count": 8,
   "metadata": {},
   "outputs": [
    {
     "name": "stdout",
     "output_type": "stream",
     "text": [
      "Name: Ba tư\n",
      "Age: 2\n",
      "Moi truong song: Nhà\n",
      "Tieng keu: meomeo\n",
      "Sở thích: chơi bóng\n"
     ]
    },
    {
     "data": {
      "text/plain": [
       "'meomeo'"
      ]
     },
     "execution_count": 8,
     "metadata": {},
     "output_type": "execute_result"
    }
   ],
   "source": [
    "class Cat(Dog):\n",
    "    def __init__(self, name, age, moi_truong_song, tieng_Keu, nhiem_vu, so_thich):\n",
    "        super().__init__(name, age, moi_truong_song, tieng_Keu, nhiem_vu)\n",
    "        self.so_thich = so_thich\n",
    "\n",
    "    def Tieng_Keu(self):\n",
    "        return super().Tieng_Keu()\n",
    "    \n",
    "    def xemThongTinCat(self):\n",
    "        print(f'Sở thích: {self.so_thich}')\n",
    "\n",
    "cat = Cat('Ba tư', 2, 'Nhà', 'meomeo', 'bắt chuột', 'chơi bóng')\n",
    "cat.Show_Infor()\n",
    "cat.xemThongTinCat()\n",
    "cat.Tieng_Keu()"
   ]
  },
  {
   "cell_type": "code",
   "execution_count": 10,
   "metadata": {},
   "outputs": [
    {
     "name": "stdout",
     "output_type": "stream",
     "text": [
      "Thanh La\n",
      "408\n",
      "--> Thanh La\n",
      "--> Quyen Dao\n",
      "--> Quynh Anh Vu\n"
     ]
    }
   ],
   "source": [
    "#INHEITANCE Tính thừa kế\n",
    "class Employee:\n",
    "    co_salary = 1.04\n",
    "    def __init__ (self, first, last, pay):\n",
    "        self.first = first\n",
    "        self.last = last\n",
    "        self.pay = pay\n",
    "        \n",
    "    def fullname(self):\n",
    "        return '{} {}'.format(self.first, self.last)\n",
    "    \n",
    "    def apply_co_salary(self):\n",
    "        self.pay = int(self.pay * self.co_salary)\n",
    "        return self.pay\n",
    "class Developer(Employee):\n",
    "    co_salary = 1.02\n",
    "    def __init__ (self, first, last, pay, pro_lang):\n",
    "        super().__init__(first, last, pay)\n",
    "        self.pro_lang = pro_lang\n",
    "\n",
    "class Manager(Employee):\n",
    "    co_salary = 1.05\n",
    "    def __init__(self, first, last, pay, employees = None):\n",
    "        super().__init__(first, last, pay)\n",
    "        if employees == None:\n",
    "            self.employess = []\n",
    "        else:\n",
    "            self.employess = employees\n",
    "\n",
    "    def add_employee(self, emp):\n",
    "        if emp not in self.employess:\n",
    "            self.employess.append(emp)\n",
    "\n",
    "    def remove_employee(self, emp):\n",
    "        if emp in self.employess:\n",
    "            self.employess.remove(emp)\n",
    "\n",
    "    def print_emp(self):\n",
    "        for emp in self.employess:\n",
    "            print ('-->', emp.fullname())\n",
    "\n",
    "class Secretary(Employee):\n",
    "    co_salary = 1.02\n",
    "    def __init__(self, first, last, pay, job):\n",
    "        super().__init__(first, last, pay)\n",
    "        self.jod = job\n",
    "    \n",
    "\n",
    "dev1 = Developer(\"Thanh\", 'La', 400, 'Python')\n",
    "print(dev1.fullname())\n",
    "print(dev1.apply_co_salary())\n",
    "\n",
    "dev2 = Developer(\"Quyen\", 'Dao', 1000, 'Python')\n",
    "sec1 = Secretary('Quynh Anh', 'Vu', 500, 'document')\n",
    "man1 = Manager(\"Huong\", 'Dao', 4000, [dev1, dev2])\n",
    "man1.add_employee(sec1)\n",
    "man1.print_emp() "
   ]
  },
  {
   "cell_type": "code",
   "execution_count": null,
   "metadata": {},
   "outputs": [],
   "source": []
  }
 ],
 "metadata": {
  "kernelspec": {
   "display_name": "base",
   "language": "python",
   "name": "python3"
  },
  "language_info": {
   "codemirror_mode": {
    "name": "ipython",
    "version": 3
   },
   "file_extension": ".py",
   "mimetype": "text/x-python",
   "name": "python",
   "nbconvert_exporter": "python",
   "pygments_lexer": "ipython3",
   "version": "3.11.5"
  }
 },
 "nbformat": 4,
 "nbformat_minor": 2
}
